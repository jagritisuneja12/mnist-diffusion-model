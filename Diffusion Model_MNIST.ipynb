{
 "cells": [
  {
   "cell_type": "markdown",
   "id": "a4a31875-f1b3-4028-9dc8-70522b374b73",
   "metadata": {},
   "source": [
    "# Adapting Diffusion Models for MNIST Dataset\n",
    "This project adapts the denoising diffusion probabilistic model to the MNIST dataset. The implementation is inspired by the concepts in the paper \"[Denoising Diffusion Probabilistic Models](https://arxiv.org/abs/2006.11239)\" by Jonathan Ho et al.\n",
    "\n",
    "## Table of Contents\n",
    "1. Introduction\n",
    "2. Adding Noise\n",
    "3. Training the Model\n",
    "4. Sampling\n",
    "5. Test Cases and Results\n"
   ]
  },
  {
   "cell_type": "code",
   "execution_count": 1,
   "id": "f6c28fa2-3ecd-49a8-9401-fc0744c6e33c",
   "metadata": {},
   "outputs": [],
   "source": [
    "# Install requirements\n",
    "!pip install torchvision &>> install.log"
   ]
  },
  {
   "cell_type": "markdown",
   "id": "14ad7554-b45b-4163-b4e7-5118960f6b55",
   "metadata": {},
   "source": [
    "# Filtering MNIST Dataset for Digits 2 and 3\n",
    "\n",
    "## Overview\n",
    "\n",
    "This section focuses on filtering the MNIST dataset to include only images of the digits `2` and `3`. This is necessary to specialize the diffusion model on a subset of data. The implementation involves utility functions for data manipulation, dataset loading, and filtering based on class labels.\n",
    "\n",
    "---\n",
    "\n",
    "## Utility Functions\n",
    "\n",
    "### `img_to_tensor(im)`\n",
    "**Purpose:**  \n",
    "Converts a PIL image into a normalized PyTorch tensor for model training.\n",
    "\n",
    "**Inputs:**  \n",
    "- `im` (*PIL.Image*): A grayscale image, typically from the MNIST dataset.\n",
    "\n",
    "**Outputs:**  \n",
    "- (*torch.Tensor*): A tensor representation of the image, scaled to the range `[-1, 1]`.\n",
    "\n",
    "**Test Case:**  \n",
    "Input: A grayscale image of digit `2`.  \n",
    "Expected Output: A PyTorch tensor where the pixel values range from `-1` to `1`.\n",
    "\n",
    "**Explanation:**  \n",
    "This function ensures compatibility with models that expect inputs in the normalized range.\n",
    "\n",
    "---\n",
    "\n",
    "### `tensor_to_image(t)`\n",
    "**Purpose:**  \n",
    "Converts a normalized PyTorch tensor back into a PIL image for visualization or saving.\n",
    "\n",
    "**Inputs:**  \n",
    "- `t` (*torch.Tensor*): A tensor with pixel values in the range `[-1, 1]`.\n",
    "\n",
    "**Outputs:**  \n",
    "- (*PIL.Image*): A grayscale image where pixel values range from `0` to `255`.\n",
    "\n",
    "**Test Case:**  \n",
    "Input: A tensor representation of digit `2` with pixel values in `[-1, 1]`.  \n",
    "Expected Output: A grayscale image that visually resembles the digit `2`.\n",
    "\n",
    "**Explanation:**  \n",
    "This function is useful for interpreting model outputs during testing or debugging.\n",
    "\n",
    "---\n",
    "\n",
    "## Data Transformation Pipeline\n",
    "\n",
    "### `transform`\n",
    "**Purpose:**  \n",
    "Applies preprocessing to MNIST images, including converting to tensors and normalizing pixel values.\n",
    "\n",
    "**Transformation Steps:**  \n",
    "1. Convert image to tensor.\n",
    "2. Normalize pixel values to have a mean of `0` and a standard deviation of `1` (scaling to `[-1, 1]`).\n",
    "\n",
    "**Explanation:**  \n",
    "This ensures the dataset is prepared in a format suitable for input to deep learning models.\n",
    "\n",
    "---\n",
    "\n",
    "## Dataset Filtering\n",
    "\n",
    "### `filter_mnist(dataset, target_digits)`\n",
    "**Purpose:**  \n",
    "Filters the MNIST dataset to include only the specified digits.\n",
    "\n",
    "**Inputs:**  \n",
    "- `dataset` (*torchvision.datasets.MNIST*): The MNIST dataset (train or test).\n",
    "- `target_digits` (*list*): A list of digits to include in the filtered dataset.\n",
    "\n",
    "**Outputs:**  \n",
    "- (*torch.Tensor*): Filtered images of the specified digits.\n",
    "- (*torch.Tensor*): Corresponding labels of the filtered images.\n",
    "\n",
    "**Test Case:**  \n",
    "Input: MNIST training dataset and `target_digits = [2, 3]`.  \n",
    "Expected Output: A subset of the MNIST dataset containing only images of digits `2` and `3`.\n",
    "\n",
    "**Explanation:**  \n",
    "The function iterates through the dataset, selects images whose labels match the target digits, and returns the filtered subset.\n",
    "\n",
    "---\n",
    "\n",
    "## Results\n",
    "\n",
    "### Filtered Dataset Statistics\n",
    "After applying the `filter_mnist` function to both the training and test datasets:\n",
    "1. **Train Dataset:**  \n",
    "   - Total Images: 12,089  \n",
    "   - Labels: Only `2` and `3`\n",
    "\n",
    "2. **Test Dataset:**  \n",
    "   - Total Images: 2,042  \n",
    "   - Labels: Only `2` and `3`\n",
    "\n",
    "### Visual Validation\n",
    "To verify the filtering, ten sample images are visualized side by side. All images belong to the specified target digits (`2` and `3`).\n",
    "\n",
    "---\n",
    "\n",
    "## Test Cases for the Pipeline\n",
    "\n",
    "### Test Case 1: Filtering Training Dataset\n",
    "**Input:**  \n",
    "- Dataset: MNIST training dataset  \n",
    "- Target Digits: `[2, 3]`\n",
    "\n",
    "**Expected Output:**  \n",
    "A filtered training dataset with `12,089` images and labels containing only `2` and `3`.\n",
    "\n",
    "**Observed Output:**  \n",
    "The filtered training dataset has the correct number of images and labels, and a visual inspection confirms that only the specified digits are present.\n",
    "\n",
    "**Conclusion:**  \n",
    "The function works as intended for the training dataset.\n",
    "\n",
    "---\n",
    "\n",
    "### Test Case 2: Filtering Test Dataset\n",
    "**Input:**  \n",
    "- Dataset: MNIST test dataset  \n",
    "- Target Digits: `[2, 3]`\n",
    "\n",
    "**Expected Output:**  \n",
    "A filtered test dataset with `2,042` images and labels containing only `2` and `3`.\n",
    "\n",
    "**Observed Output:**  \n",
    "The filtered test dataset matches the expected size and contains only the target digits.\n",
    "\n",
    "**Conclusion:**  \n",
    "The function successfully filters the test dataset.\n",
    "\n",
    "---\n",
    "\n",
    "### Test Case 3: Visualization\n",
    "**Input:**  \n",
    "- First 10 filtered images from the training dataset.  \n",
    "\n",
    "**Expected Output:**  \n",
    "A grid of images where all samples are digits `2` and `3`.\n",
    "\n",
    "**Observed Output:**  \n",
    "The generated image grid correctly displays only digits `2` and `3`.\n",
    "\n",
    "**Conclusion:**  \n",
    "The filtering and visualization steps are accurate.\n",
    "\n",
    "---\n",
    "\n",
    "## Summary\n",
    "The dataset filtering process successfully isolates the digits `2` and `3` from the MNIST dataset, producing subsets suitable for specialized tasks like training a diffusion model. The utility functions ensure compatibility with PyTorch-based models and enable clear visualization of results.\n"
   ]
  },
  {
   "cell_type": "code",
   "execution_count": 2,
   "id": "770879d9-799b-4ce9-be87-c5016475452f",
   "metadata": {},
   "outputs": [
    {
     "name": "stdout",
     "output_type": "stream",
     "text": [
      "Filtered Train Data: torch.Size([12089, 1, 28, 28]), Train Targets: torch.Size([12089])\n",
      "Filtered Test Data: torch.Size([2042, 1, 28, 28]), Test Targets: torch.Size([2042])\n"
     ]
    },
    {
     "data": {
      "image/png": "[encoded data removed]",
      "text/plain": [
       "<PIL.Image.Image image mode=L size=280x28 at 0x7F60C3158B50>"
      ]
     },
     "execution_count": 2,
     "metadata": {},
     "output_type": "execute_result"
    }
   ],
   "source": [
    "# Imports and utility functions\n",
    "from torchvision import datasets, transforms\n",
    "from PIL import Image\n",
    "import torch\n",
    "import os\n",
    "from tqdm.notebook import tqdm\n",
    "import numpy as np\n",
    "\n",
    "def img_to_tensor(im):\n",
    "    return torch.tensor(np.array(im)/255).unsqueeze(0).unsqueeze(0) * 2 - 1\n",
    "\n",
    "def tensor_to_image(t):\n",
    "    return Image.fromarray(((t.squeeze().numpy() + 1) / 2 * 255).clip(0, 255).astype(np.uint8))\n",
    "\n",
    "# Load MNIST Dataset\n",
    "transform = transforms.Compose([transforms.ToTensor(), transforms.Normalize((0.5,), (0.5,))])\n",
    "\n",
    "# Load only digits 2 and 3 from MNIST\n",
    "mnist_train = datasets.MNIST(root='./data', train=True, download=True, transform=transform)\n",
    "mnist_test = datasets.MNIST(root='./data', train=False, download=True, transform=transform)\n",
    "\n",
    "# Filter the dataset to keep only digits 2 and 3\n",
    "def filter_mnist(dataset, target_digits):\n",
    "    filtered_data = []\n",
    "    filtered_targets = []\n",
    "    for img, label in dataset:\n",
    "        if label in target_digits:\n",
    "            filtered_data.append(img)\n",
    "            filtered_targets.append(label)\n",
    "    return torch.stack(filtered_data), torch.tensor(filtered_targets)\n",
    "\n",
    "# Keep only digits 2 and 3\n",
    "train_data, train_targets = filter_mnist(mnist_train, target_digits=[2, 3])\n",
    "test_data, test_targets = filter_mnist(mnist_test, target_digits=[2, 3])\n",
    "\n",
    "print(f\"Filtered Train Data: {train_data.shape}, Train Targets: {train_targets.shape}\")\n",
    "print(f\"Filtered Test Data: {test_data.shape}, Test Targets: {test_targets.shape}\")\n",
    "\n",
    "# View some examples of digits 2 and 3\n",
    "example_image = torch.cat([train_data[i] for i in range(10)], dim=2).squeeze()\n",
    "Image.fromarray(((example_image.numpy() + 1) / 2 * 255).astype(np.uint8))\n"
   ]
  },
  {
   "cell_type": "markdown",
   "id": "387db817-a003-4143-8191-4af385b83a7d",
   "metadata": {},
   "source": []
  },
  {
   "cell_type": "code",
   "execution_count": 3,
   "id": "c4335f88-53d6-455c-9f67-a78ee4b3c436",
   "metadata": {},
   "outputs": [
    {
     "data": {
      "image/png": "[encoded data removed]",
      "text/plain": [
       "<Figure size 1500x500 with 1 Axes>"
      ]
     },
     "metadata": {},
     "output_type": "display_data"
    }
   ],
   "source": [
    "import torch\n",
    "from torchvision import datasets, transforms\n",
    "from torch.utils.data import DataLoader, Subset\n",
    "from PIL import Image\n",
    "import matplotlib.pyplot as plt\n",
    "import numpy as np\n",
    "\n",
    "# Helper functions to handle image transformations\n",
    "def img_to_tensor(img):\n",
    "    \"\"\"Convert a PIL Image to a tensor and normalize.\"\"\"\n",
    "    return torch.tensor(np.array(img) / 255.0).unsqueeze(0)  # Grayscale, so single channel\n",
    "\n",
    "def tensor_to_image(tensor):\n",
    "    \"\"\"Convert a tensor back to a PIL Image.\"\"\"\n",
    "    tensor = tensor.squeeze().clamp(0, 1)\n",
    "    array = (tensor.numpy() * 255).astype(np.uint8)\n",
    "    return Image.fromarray(array)\n",
    "\n",
    "# Transformation and dataset loading\n",
    "transform = transforms.Compose([\n",
    "    transforms.Resize((32, 32)),  # Resize to match CIFAR-10 dimensions\n",
    "    transforms.ToTensor(),\n",
    "    transforms.Normalize((0.5,), (0.5,))\n",
    "])\n",
    "mnist = datasets.MNIST(root=\"./data\", train=True, download=True, transform=transform)\n",
    "\n",
    "# Filter MNIST digits 2 and 3\n",
    "indices = [i for i, (img, label) in enumerate(mnist) if label in [2, 3]]\n",
    "filtered_dataset = Subset(mnist, indices)\n",
    "dataloader = DataLoader(filtered_dataset, batch_size=32, shuffle=True)\n",
    "\n",
    "# Select a single image for demonstration\n",
    "for images, _ in dataloader:\n",
    "    start_im = images[0]\n",
    "    break\n",
    "\n",
    "# Noise addition parameters\n",
    "n_steps = 100\n",
    "beta = torch.linspace(0.0001, 0.04, n_steps)\n",
    "alpha = 1. - beta\n",
    "alpha_bar = torch.cumprod(alpha, dim=0)\n",
    "\n",
    "def gather(values, t):\n",
    "    \"\"\"Utility to gather values by timestep.\"\"\"\n",
    "    return values[t].view(-1, *(1,) * (len(values.size()) - 1))\n",
    "\n",
    "def q_xt_x0(x0, t):\n",
    "    mean = gather(alpha_bar, t) ** 0.5 * x0\n",
    "    var = 1 - gather(alpha_bar, t)\n",
    "    eps = torch.randn_like(x0)\n",
    "    return mean + (var ** 0.5) * eps\n",
    "\n",
    "# Visualize noisy images at different stages\n",
    "ims = []\n",
    "x0 = start_im.squeeze()  # Remove batch dimension\n",
    "for t in [0, 20, 40, 60, 80]:\n",
    "    x = q_xt_x0(x0, torch.tensor(t, dtype=torch.long))\n",
    "    ims.append(tensor_to_image(x))\n",
    "\n",
    "# Combine images into one for display\n",
    "image = Image.new(\"L\", size=(32 * 5, 32))  # Grayscale (L mode) with CIFAR-10 size\n",
    "for i, im in enumerate(ims):\n",
    "    image.paste(im, (i * 32, 0))\n",
    "\n",
    "# Display using matplotlib\n",
    "plt.figure(figsize=(15, 5))  # Match CIFAR-10 aspect ratio\n",
    "plt.imshow(np.array(image), cmap='gray')\n",
    "plt.axis('off')\n",
    "plt.title(\"Diffusion Process: q(xt | x0) - MNIST\")\n",
    "plt.show()\n"
   ]
  },
  {
   "cell_type": "code",
   "execution_count": 4,
   "id": "1c564f81-ba91-4bdf-89bf-97fa73855d82",
   "metadata": {},
   "outputs": [
    {
     "name": "stdout",
     "output_type": "stream",
     "text": [
      "Output shape: torch.Size([10, 1, 32, 32])\n"
     ]
    }
   ],
   "source": [
    "import math\n",
    "from typing import Optional, Tuple, Union, List\n",
    "\n",
    "import torch\n",
    "from torch import nn\n",
    "\n",
    "# A fancy activation function\n",
    "class Swish(nn.Module):\n",
    "    def forward(self, x):\n",
    "        return x * torch.sigmoid(x)\n",
    "\n",
    "class TimeEmbedding(nn.Module):\n",
    "    def __init__(self, n_channels: int):\n",
    "        super().__init__()\n",
    "        self.n_channels = n_channels\n",
    "        self.lin1 = nn.Linear(self.n_channels // 4, self.n_channels)\n",
    "        self.act = Swish()\n",
    "        self.lin2 = nn.Linear(self.n_channels, self.n_channels)\n",
    "\n",
    "    def forward(self, t: torch.Tensor):\n",
    "        half_dim = self.n_channels // 8\n",
    "        emb = math.log(10_000) / (half_dim - 1)\n",
    "        emb = torch.exp(torch.arange(half_dim, device=t.device) * -emb)\n",
    "        emb = t[:, None] * emb[None, :]\n",
    "        emb = torch.cat((emb.sin(), emb.cos()), dim=1)\n",
    "        emb = self.act(self.lin1(emb))\n",
    "        emb = self.lin2(emb)\n",
    "        return emb\n",
    "\n",
    "class ResidualBlock(nn.Module):\n",
    "    def __init__(self, in_channels: int, out_channels: int, time_channels: int, n_groups: int = 32):\n",
    "        super().__init__()\n",
    "        self.norm1 = nn.GroupNorm(n_groups, in_channels)\n",
    "        self.act1 = Swish()\n",
    "        self.conv1 = nn.Conv2d(in_channels, out_channels, kernel_size=(3, 3), padding=(1, 1))\n",
    "\n",
    "        self.norm2 = nn.GroupNorm(n_groups, out_channels)\n",
    "        self.act2 = Swish()\n",
    "        self.conv2 = nn.Conv2d(out_channels, out_channels, kernel_size=(3, 3), padding=(1, 1))\n",
    "\n",
    "        self.shortcut = nn.Conv2d(in_channels, out_channels, kernel_size=(1, 1)) if in_channels != out_channels else nn.Identity()\n",
    "\n",
    "        self.time_emb = nn.Linear(time_channels, out_channels)\n",
    "\n",
    "    def forward(self, x: torch.Tensor, t: torch.Tensor):\n",
    "        h = self.conv1(self.act1(self.norm1(x)))\n",
    "        h += self.time_emb(t)[:, :, None, None]\n",
    "        h = self.conv2(self.act2(self.norm2(h)))\n",
    "        return h + self.shortcut(x)\n",
    "\n",
    "class AttentionBlock(nn.Module):\n",
    "    def __init__(self, n_channels: int, n_heads: int = 1, d_k: int = None, n_groups: int = 32):\n",
    "        super().__init__()\n",
    "        d_k = d_k or n_channels\n",
    "        self.norm = nn.GroupNorm(n_groups, n_channels)\n",
    "        self.projection = nn.Linear(n_channels, n_heads * d_k * 3)\n",
    "        self.output = nn.Linear(n_heads * d_k, n_channels)\n",
    "        self.scale = d_k ** -0.5\n",
    "        self.n_heads = n_heads\n",
    "        self.d_k = d_k\n",
    "\n",
    "    def forward(self, x: torch.Tensor, t: Optional[torch.Tensor] = None):\n",
    "        _ = t\n",
    "        batch_size, n_channels, height, width = x.shape\n",
    "        x = x.view(batch_size, n_channels, -1).permute(0, 2, 1)\n",
    "        qkv = self.projection(x).view(batch_size, -1, self.n_heads, 3 * self.d_k)\n",
    "        q, k, v = torch.chunk(qkv, 3, dim=-1)\n",
    "        attn = torch.einsum('bihd,bjhd->bijh', q, k) * self.scale\n",
    "        attn = attn.softmax(dim=1)\n",
    "        res = torch.einsum('bijh,bjhd->bihd', attn, v)\n",
    "        res = res.view(batch_size, -1, self.n_heads * self.d_k)\n",
    "        res = self.output(res)\n",
    "        res += x\n",
    "        res = res.permute(0, 2, 1).view(batch_size, n_channels, height, width)\n",
    "        return res\n",
    "\n",
    "class DownBlock(nn.Module):\n",
    "    def __init__(self, in_channels: int, out_channels: int, time_channels: int, has_attn: bool):\n",
    "        super().__init__()\n",
    "        self.res = ResidualBlock(in_channels, out_channels, time_channels)\n",
    "        self.attn = AttentionBlock(out_channels) if has_attn else nn.Identity()\n",
    "\n",
    "    def forward(self, x: torch.Tensor, t: torch.Tensor):\n",
    "        x = self.res(x, t)\n",
    "        x = self.attn(x)\n",
    "        return x\n",
    "\n",
    "class UpBlock(nn.Module):\n",
    "    def __init__(self, in_channels: int, out_channels: int, time_channels: int, has_attn: bool):\n",
    "        super().__init__()\n",
    "        self.res = ResidualBlock(in_channels + out_channels, out_channels, time_channels)\n",
    "        self.attn = AttentionBlock(out_channels) if has_attn else nn.Identity()\n",
    "\n",
    "    def forward(self, x: torch.Tensor, t: torch.Tensor):\n",
    "        x = self.res(x, t)\n",
    "        x = self.attn(x)\n",
    "        return x\n",
    "\n",
    "class MiddleBlock(nn.Module):\n",
    "    def __init__(self, n_channels: int, time_channels: int):\n",
    "        super().__init__()\n",
    "        self.res1 = ResidualBlock(n_channels, n_channels, time_channels)\n",
    "        self.attn = AttentionBlock(n_channels)\n",
    "        self.res2 = ResidualBlock(n_channels, n_channels, time_channels)\n",
    "\n",
    "    def forward(self, x: torch.Tensor, t: torch.Tensor):\n",
    "        x = self.res1(x, t)\n",
    "        x = self.attn(x)\n",
    "        x = self.res2(x, t)\n",
    "        return x\n",
    "\n",
    "class Upsample(nn.Module):\n",
    "    def __init__(self, n_channels):\n",
    "        super().__init__()\n",
    "        self.conv = nn.ConvTranspose2d(n_channels, n_channels, (4, 4), (2, 2), (1, 1))\n",
    "\n",
    "    def forward(self, x: torch.Tensor, t: torch.Tensor):\n",
    "        _ = t\n",
    "        return self.conv(x)\n",
    "\n",
    "class Downsample(nn.Module):\n",
    "    def __init__(self, n_channels):\n",
    "        super().__init__()\n",
    "        self.conv = nn.Conv2d(n_channels, n_channels, (3, 3), (2, 2), (1, 1))\n",
    "\n",
    "    def forward(self, x: torch.Tensor, t: torch.Tensor):\n",
    "        _ = t\n",
    "        return self.conv(x)\n",
    "\n",
    "class UNet(nn.Module):\n",
    "    def __init__(self, image_channels: int = 1, n_channels: int = 64,\n",
    "                 ch_mults: Union[Tuple[int, ...], List[int]] = (1, 2, 2, 4),\n",
    "                 is_attn: Union[Tuple[bool, ...], List[int]] = (False, False, True, True),\n",
    "                 n_blocks: int = 2):\n",
    "        super().__init__()\n",
    "        n_resolutions = len(ch_mults)\n",
    "        self.image_proj = nn.Conv2d(image_channels, n_channels, kernel_size=(3, 3), padding=(1, 1))\n",
    "        self.time_emb = TimeEmbedding(n_channels * 4)\n",
    "        \n",
    "        down = []\n",
    "        out_channels = in_channels = n_channels\n",
    "        for i in range(n_resolutions):\n",
    "            out_channels = in_channels * ch_mults[i]\n",
    "            for _ in range(n_blocks):\n",
    "                down.append(DownBlock(in_channels, out_channels, n_channels * 4, is_attn[i]))\n",
    "                in_channels = out_channels\n",
    "            if i < n_resolutions - 1:\n",
    "                down.append(Downsample(in_channels))\n",
    "\n",
    "        self.down = nn.ModuleList(down)\n",
    "        self.middle = MiddleBlock(out_channels, n_channels * 4)\n",
    "\n",
    "        up = []\n",
    "        in_channels = out_channels\n",
    "        for i in reversed(range(n_resolutions)):\n",
    "            out_channels = in_channels\n",
    "            for _ in range(n_blocks):\n",
    "                up.append(UpBlock(in_channels, out_channels, n_channels * 4, is_attn[i]))\n",
    "            out_channels = in_channels // ch_mults[i]\n",
    "            up.append(UpBlock(in_channels, out_channels, n_channels * 4, is_attn[i]))\n",
    "            in_channels = out_channels\n",
    "            if i > 0:\n",
    "                up.append(Upsample(in_channels))\n",
    "\n",
    "        self.up = nn.ModuleList(up)\n",
    "        self.norm = nn.GroupNorm(8, n_channels)\n",
    "        self.act = Swish()\n",
    "        self.final = nn.Conv2d(in_channels, image_channels, kernel_size=(3, 3), padding=(1, 1))\n",
    "\n",
    "    def forward(self, x: torch.Tensor, t: torch.Tensor):\n",
    "        t = self.time_emb(t)\n",
    "        x = self.image_proj(x)\n",
    "        h = [x]\n",
    "        for m in self.down:\n",
    "            x = m(x, t)\n",
    "            h.append(x)\n",
    "\n",
    "        x = self.middle(x, t)\n",
    "\n",
    "        for m in self.up:\n",
    "            if isinstance(m, Upsample):\n",
    "                x = m(x, t)\n",
    "            else:\n",
    "                s = h.pop()\n",
    "                x = torch.cat((x, s), dim=1)\n",
    "                x = m(x, t)\n",
    "\n",
    "        return self.final(self.act(self.norm(x)))\n",
    "\n",
    "# Example usage for MNIST\n",
    "x_mnist = torch.randn(10, 1, 32, 32)  # 10 grayscale images of size 32x32\n",
    "t_mnist = torch.tensor([50], dtype=torch.long)  # Corrected to avoid DeprecationWarning\n",
    "\n",
    "mnist_unet = UNet(image_channels=1)\n",
    "model_output = mnist_unet(x_mnist, t_mnist)\n",
    "print(\"Output shape:\", model_output.shape)\n"
   ]
  },
  {
   "cell_type": "code",
   "execution_count": 5,
   "id": "faa29d37-84f4-4afe-8a3a-18bc96817089",
   "metadata": {},
   "outputs": [],
   "source": [
    "class ExponentialMovingAverage:\n",
    "    def __init__(self, model, decay=0.995):\n",
    "        \"\"\"\n",
    "        Exponential Moving Average for model parameters.\n",
    "        Args:\n",
    "            model: PyTorch model.\n",
    "            decay: Decay factor for EMA updates.\n",
    "        \"\"\"\n",
    "        self.model = model\n",
    "        self.decay = decay\n",
    "        self.shadow_params = {name: param.clone().detach()\n",
    "                              for name, param in model.named_parameters() if param.requires_grad}\n",
    "        self.model_device = next(model.parameters()).device\n",
    "\n",
    "    def update_parameters(self, model):\n",
    "        \"\"\"\n",
    "        Update the shadow parameters with the model's current parameters.\n",
    "        Args:\n",
    "            model: PyTorch model.\n",
    "        \"\"\"\n",
    "        with torch.no_grad():\n",
    "            for name, param in model.named_parameters():\n",
    "                if name in self.shadow_params and param.requires_grad:\n",
    "                    self.shadow_params[name].mul_(self.decay).add_((1 - self.decay) * param.data)\n",
    "\n",
    "    def apply_shadow(self):\n",
    "        \"\"\"\n",
    "        Apply the shadow parameters to the model (for evaluation).\n",
    "        \"\"\"\n",
    "        with torch.no_grad():\n",
    "            for name, param in self.model.named_parameters():\n",
    "                if name in self.shadow_params and param.requires_grad:\n",
    "                    param.data.copy_(self.shadow_params[name])\n",
    "\n",
    "    def restore(self):\n",
    "        \"\"\"\n",
    "        Restore the original parameters to the model.\n",
    "        \"\"\"\n",
    "        with torch.no_grad():\n",
    "            for name, param in self.model.named_parameters():\n",
    "                if name in self.shadow_params and param.requires_grad:\n",
    "                    self.shadow_params[name], param.data = param.data, self.shadow_params[name]\n"
   ]
  },
  {
   "cell_type": "code",
   "execution_count": 6,
   "id": "e85dac64-f052-4e66-99f7-41603c1b0f60",
   "metadata": {},
   "outputs": [
    {
     "name": "stdout",
     "output_type": "stream",
     "text": [
      "Epoch 1\n"
     ]
    },
    {
     "name": "stderr",
     "output_type": "stream",
     "text": [
      "100%|███████████████████████████████████████████| 95/95 [00:30<00:00,  3.13it/s]\n"
     ]
    },
    {
     "name": "stdout",
     "output_type": "stream",
     "text": [
      "Epoch 1 Loss: 0.7584\n",
      "Epoch 2\n"
     ]
    },
    {
     "name": "stderr",
     "output_type": "stream",
     "text": [
      "100%|███████████████████████████████████████████| 95/95 [00:28<00:00,  3.34it/s]\n"
     ]
    },
    {
     "name": "stdout",
     "output_type": "stream",
     "text": [
      "Epoch 2 Loss: 0.3453\n",
      "Epoch 3\n"
     ]
    },
    {
     "name": "stderr",
     "output_type": "stream",
     "text": [
      "100%|███████████████████████████████████████████| 95/95 [00:29<00:00,  3.26it/s]\n"
     ]
    },
    {
     "name": "stdout",
     "output_type": "stream",
     "text": [
      "Epoch 3 Loss: 0.1943\n",
      "Epoch 4\n"
     ]
    },
    {
     "name": "stderr",
     "output_type": "stream",
     "text": [
      "100%|███████████████████████████████████████████| 95/95 [00:27<00:00,  3.46it/s]\n"
     ]
    },
    {
     "name": "stdout",
     "output_type": "stream",
     "text": [
      "Epoch 4 Loss: 0.1437\n",
      "Epoch 5\n"
     ]
    },
    {
     "name": "stderr",
     "output_type": "stream",
     "text": [
      "100%|███████████████████████████████████████████| 95/95 [00:31<00:00,  3.01it/s]\n"
     ]
    },
    {
     "name": "stdout",
     "output_type": "stream",
     "text": [
      "Epoch 5 Loss: 0.1077\n",
      "Epoch 6\n"
     ]
    },
    {
     "name": "stderr",
     "output_type": "stream",
     "text": [
      "100%|███████████████████████████████████████████| 95/95 [00:31<00:00,  3.00it/s]\n"
     ]
    },
    {
     "name": "stdout",
     "output_type": "stream",
     "text": [
      "Epoch 6 Loss: 0.0871\n",
      "Epoch 7\n"
     ]
    },
    {
     "name": "stderr",
     "output_type": "stream",
     "text": [
      "100%|███████████████████████████████████████████| 95/95 [00:31<00:00,  3.00it/s]\n"
     ]
    },
    {
     "name": "stdout",
     "output_type": "stream",
     "text": [
      "Epoch 7 Loss: 0.0737\n",
      "Epoch 8\n"
     ]
    },
    {
     "name": "stderr",
     "output_type": "stream",
     "text": [
      "100%|███████████████████████████████████████████| 95/95 [00:31<00:00,  3.00it/s]\n"
     ]
    },
    {
     "name": "stdout",
     "output_type": "stream",
     "text": [
      "Epoch 8 Loss: 0.0684\n",
      "Epoch 9\n"
     ]
    },
    {
     "name": "stderr",
     "output_type": "stream",
     "text": [
      "100%|███████████████████████████████████████████| 95/95 [00:32<00:00,  2.90it/s]\n"
     ]
    },
    {
     "name": "stdout",
     "output_type": "stream",
     "text": [
      "Epoch 9 Loss: 0.0603\n",
      "Epoch 10\n"
     ]
    },
    {
     "name": "stderr",
     "output_type": "stream",
     "text": [
      "100%|███████████████████████████████████████████| 95/95 [00:32<00:00,  2.95it/s]\n"
     ]
    },
    {
     "name": "stdout",
     "output_type": "stream",
     "text": [
      "Epoch 10 Loss: 0.0584\n",
      "Epoch 11\n"
     ]
    },
    {
     "name": "stderr",
     "output_type": "stream",
     "text": [
      "100%|███████████████████████████████████████████| 95/95 [00:31<00:00,  2.99it/s]\n"
     ]
    },
    {
     "name": "stdout",
     "output_type": "stream",
     "text": [
      "Epoch 11 Loss: 0.0556\n",
      "Epoch 12\n"
     ]
    },
    {
     "name": "stderr",
     "output_type": "stream",
     "text": [
      "100%|███████████████████████████████████████████| 95/95 [00:32<00:00,  2.97it/s]\n"
     ]
    },
    {
     "name": "stdout",
     "output_type": "stream",
     "text": [
      "Epoch 12 Loss: 0.0536\n",
      "Epoch 13\n"
     ]
    },
    {
     "name": "stderr",
     "output_type": "stream",
     "text": [
      "100%|███████████████████████████████████████████| 95/95 [00:29<00:00,  3.17it/s]\n"
     ]
    },
    {
     "name": "stdout",
     "output_type": "stream",
     "text": [
      "Epoch 13 Loss: 0.0517\n",
      "Epoch 14\n"
     ]
    },
    {
     "name": "stderr",
     "output_type": "stream",
     "text": [
      "100%|███████████████████████████████████████████| 95/95 [00:31<00:00,  3.00it/s]\n"
     ]
    },
    {
     "name": "stdout",
     "output_type": "stream",
     "text": [
      "Epoch 14 Loss: 0.0505\n",
      "Epoch 15\n"
     ]
    },
    {
     "name": "stderr",
     "output_type": "stream",
     "text": [
      "100%|███████████████████████████████████████████| 95/95 [00:29<00:00,  3.24it/s]\n"
     ]
    },
    {
     "name": "stdout",
     "output_type": "stream",
     "text": [
      "Epoch 15 Loss: 0.0494\n",
      "Epoch 16\n"
     ]
    },
    {
     "name": "stderr",
     "output_type": "stream",
     "text": [
      "100%|███████████████████████████████████████████| 95/95 [00:30<00:00,  3.11it/s]\n"
     ]
    },
    {
     "name": "stdout",
     "output_type": "stream",
     "text": [
      "Epoch 16 Loss: 0.0476\n",
      "Epoch 17\n"
     ]
    },
    {
     "name": "stderr",
     "output_type": "stream",
     "text": [
      "100%|███████████████████████████████████████████| 95/95 [00:30<00:00,  3.08it/s]\n"
     ]
    },
    {
     "name": "stdout",
     "output_type": "stream",
     "text": [
      "Epoch 17 Loss: 0.0470\n",
      "Epoch 18\n"
     ]
    },
    {
     "name": "stderr",
     "output_type": "stream",
     "text": [
      "100%|███████████████████████████████████████████| 95/95 [00:31<00:00,  3.03it/s]\n"
     ]
    },
    {
     "name": "stdout",
     "output_type": "stream",
     "text": [
      "Epoch 18 Loss: 0.0461\n",
      "Epoch 19\n"
     ]
    },
    {
     "name": "stderr",
     "output_type": "stream",
     "text": [
      "100%|███████████████████████████████████████████| 95/95 [00:29<00:00,  3.18it/s]\n"
     ]
    },
    {
     "name": "stdout",
     "output_type": "stream",
     "text": [
      "Epoch 19 Loss: 0.0457\n",
      "Epoch 20\n"
     ]
    },
    {
     "name": "stderr",
     "output_type": "stream",
     "text": [
      "100%|███████████████████████████████████████████| 95/95 [00:30<00:00,  3.11it/s]\n"
     ]
    },
    {
     "name": "stdout",
     "output_type": "stream",
     "text": [
      "Epoch 20 Loss: 0.0447\n",
      "Epoch 21\n"
     ]
    },
    {
     "name": "stderr",
     "output_type": "stream",
     "text": [
      "100%|███████████████████████████████████████████| 95/95 [00:30<00:00,  3.12it/s]\n"
     ]
    },
    {
     "name": "stdout",
     "output_type": "stream",
     "text": [
      "Epoch 21 Loss: 0.0439\n",
      "Epoch 22\n"
     ]
    },
    {
     "name": "stderr",
     "output_type": "stream",
     "text": [
      "100%|███████████████████████████████████████████| 95/95 [00:29<00:00,  3.27it/s]\n"
     ]
    },
    {
     "name": "stdout",
     "output_type": "stream",
     "text": [
      "Epoch 22 Loss: 0.0431\n",
      "Epoch 23\n"
     ]
    },
    {
     "name": "stderr",
     "output_type": "stream",
     "text": [
      "100%|███████████████████████████████████████████| 95/95 [00:27<00:00,  3.40it/s]\n"
     ]
    },
    {
     "name": "stdout",
     "output_type": "stream",
     "text": [
      "Epoch 23 Loss: 0.0431\n",
      "Epoch 24\n"
     ]
    },
    {
     "name": "stderr",
     "output_type": "stream",
     "text": [
      "100%|███████████████████████████████████████████| 95/95 [00:31<00:00,  3.01it/s]\n"
     ]
    },
    {
     "name": "stdout",
     "output_type": "stream",
     "text": [
      "Epoch 24 Loss: 0.0428\n",
      "Epoch 25\n"
     ]
    },
    {
     "name": "stderr",
     "output_type": "stream",
     "text": [
      "100%|███████████████████████████████████████████| 95/95 [00:31<00:00,  2.99it/s]\n"
     ]
    },
    {
     "name": "stdout",
     "output_type": "stream",
     "text": [
      "Epoch 25 Loss: 0.0430\n",
      "Epoch 26\n"
     ]
    },
    {
     "name": "stderr",
     "output_type": "stream",
     "text": [
      "100%|███████████████████████████████████████████| 95/95 [00:31<00:00,  3.01it/s]\n"
     ]
    },
    {
     "name": "stdout",
     "output_type": "stream",
     "text": [
      "Epoch 26 Loss: 0.0421\n",
      "Epoch 27\n"
     ]
    },
    {
     "name": "stderr",
     "output_type": "stream",
     "text": [
      "100%|███████████████████████████████████████████| 95/95 [00:29<00:00,  3.23it/s]\n"
     ]
    },
    {
     "name": "stdout",
     "output_type": "stream",
     "text": [
      "Epoch 27 Loss: 0.0414\n",
      "Epoch 28\n"
     ]
    },
    {
     "name": "stderr",
     "output_type": "stream",
     "text": [
      "100%|███████████████████████████████████████████| 95/95 [00:29<00:00,  3.24it/s]\n"
     ]
    },
    {
     "name": "stdout",
     "output_type": "stream",
     "text": [
      "Epoch 28 Loss: 0.0419\n",
      "Epoch 29\n"
     ]
    },
    {
     "name": "stderr",
     "output_type": "stream",
     "text": [
      "100%|███████████████████████████████████████████| 95/95 [00:31<00:00,  3.00it/s]\n"
     ]
    },
    {
     "name": "stdout",
     "output_type": "stream",
     "text": [
      "Epoch 29 Loss: 0.0416\n",
      "Epoch 30\n"
     ]
    },
    {
     "name": "stderr",
     "output_type": "stream",
     "text": [
      "100%|███████████████████████████████████████████| 95/95 [00:32<00:00,  2.92it/s]\n"
     ]
    },
    {
     "name": "stdout",
     "output_type": "stream",
     "text": [
      "Epoch 30 Loss: 0.0407\n",
      "Epoch 31\n"
     ]
    },
    {
     "name": "stderr",
     "output_type": "stream",
     "text": [
      "100%|███████████████████████████████████████████| 95/95 [00:31<00:00,  3.03it/s]\n"
     ]
    },
    {
     "name": "stdout",
     "output_type": "stream",
     "text": [
      "Epoch 31 Loss: 0.0401\n",
      "Epoch 32\n"
     ]
    },
    {
     "name": "stderr",
     "output_type": "stream",
     "text": [
      "100%|███████████████████████████████████████████| 95/95 [00:31<00:00,  2.98it/s]\n"
     ]
    },
    {
     "name": "stdout",
     "output_type": "stream",
     "text": [
      "Epoch 32 Loss: 0.0408\n",
      "Epoch 33\n"
     ]
    },
    {
     "name": "stderr",
     "output_type": "stream",
     "text": [
      "100%|███████████████████████████████████████████| 95/95 [00:32<00:00,  2.90it/s]\n"
     ]
    },
    {
     "name": "stdout",
     "output_type": "stream",
     "text": [
      "Epoch 33 Loss: 0.0401\n",
      "Epoch 34\n"
     ]
    },
    {
     "name": "stderr",
     "output_type": "stream",
     "text": [
      "100%|███████████████████████████████████████████| 95/95 [00:32<00:00,  2.94it/s]\n"
     ]
    },
    {
     "name": "stdout",
     "output_type": "stream",
     "text": [
      "Epoch 34 Loss: 0.0397\n",
      "Epoch 35\n"
     ]
    },
    {
     "name": "stderr",
     "output_type": "stream",
     "text": [
      "100%|███████████████████████████████████████████| 95/95 [00:32<00:00,  2.92it/s]\n"
     ]
    },
    {
     "name": "stdout",
     "output_type": "stream",
     "text": [
      "Epoch 35 Loss: 0.0392\n",
      "Epoch 36\n"
     ]
    },
    {
     "name": "stderr",
     "output_type": "stream",
     "text": [
      "100%|███████████████████████████████████████████| 95/95 [00:32<00:00,  2.94it/s]\n"
     ]
    },
    {
     "name": "stdout",
     "output_type": "stream",
     "text": [
      "Epoch 36 Loss: 0.0389\n",
      "Epoch 37\n"
     ]
    },
    {
     "name": "stderr",
     "output_type": "stream",
     "text": [
      "100%|███████████████████████████████████████████| 95/95 [00:32<00:00,  2.93it/s]\n"
     ]
    },
    {
     "name": "stdout",
     "output_type": "stream",
     "text": [
      "Epoch 37 Loss: 0.0396\n",
      "Epoch 38\n"
     ]
    },
    {
     "name": "stderr",
     "output_type": "stream",
     "text": [
      "100%|███████████████████████████████████████████| 95/95 [00:32<00:00,  2.92it/s]\n"
     ]
    },
    {
     "name": "stdout",
     "output_type": "stream",
     "text": [
      "Epoch 38 Loss: 0.0389\n",
      "Epoch 39\n"
     ]
    },
    {
     "name": "stderr",
     "output_type": "stream",
     "text": [
      "100%|███████████████████████████████████████████| 95/95 [00:32<00:00,  2.95it/s]\n"
     ]
    },
    {
     "name": "stdout",
     "output_type": "stream",
     "text": [
      "Epoch 39 Loss: 0.0388\n",
      "Epoch 40\n"
     ]
    },
    {
     "name": "stderr",
     "output_type": "stream",
     "text": [
      "100%|███████████████████████████████████████████| 95/95 [00:32<00:00,  2.94it/s]\n"
     ]
    },
    {
     "name": "stdout",
     "output_type": "stream",
     "text": [
      "Epoch 40 Loss: 0.0383\n",
      "Epoch 41\n"
     ]
    },
    {
     "name": "stderr",
     "output_type": "stream",
     "text": [
      "100%|███████████████████████████████████████████| 95/95 [00:32<00:00,  2.91it/s]\n"
     ]
    },
    {
     "name": "stdout",
     "output_type": "stream",
     "text": [
      "Epoch 41 Loss: 0.0382\n",
      "Epoch 42\n"
     ]
    },
    {
     "name": "stderr",
     "output_type": "stream",
     "text": [
      "100%|███████████████████████████████████████████| 95/95 [00:32<00:00,  2.91it/s]\n"
     ]
    },
    {
     "name": "stdout",
     "output_type": "stream",
     "text": [
      "Epoch 42 Loss: 0.0383\n",
      "Epoch 43\n"
     ]
    },
    {
     "name": "stderr",
     "output_type": "stream",
     "text": [
      "100%|███████████████████████████████████████████| 95/95 [00:32<00:00,  2.89it/s]\n"
     ]
    },
    {
     "name": "stdout",
     "output_type": "stream",
     "text": [
      "Epoch 43 Loss: 0.0379\n",
      "Epoch 44\n"
     ]
    },
    {
     "name": "stderr",
     "output_type": "stream",
     "text": [
      "100%|███████████████████████████████████████████| 95/95 [00:33<00:00,  2.85it/s]\n"
     ]
    },
    {
     "name": "stdout",
     "output_type": "stream",
     "text": [
      "Epoch 44 Loss: 0.0382\n",
      "Epoch 45\n"
     ]
    },
    {
     "name": "stderr",
     "output_type": "stream",
     "text": [
      "100%|███████████████████████████████████████████| 95/95 [00:33<00:00,  2.86it/s]\n"
     ]
    },
    {
     "name": "stdout",
     "output_type": "stream",
     "text": [
      "Epoch 45 Loss: 0.0381\n",
      "Epoch 46\n"
     ]
    },
    {
     "name": "stderr",
     "output_type": "stream",
     "text": [
      "100%|███████████████████████████████████████████| 95/95 [00:32<00:00,  2.91it/s]\n"
     ]
    },
    {
     "name": "stdout",
     "output_type": "stream",
     "text": [
      "Epoch 46 Loss: 0.0378\n",
      "Epoch 47\n"
     ]
    },
    {
     "name": "stderr",
     "output_type": "stream",
     "text": [
      "100%|███████████████████████████████████████████| 95/95 [00:32<00:00,  2.89it/s]\n"
     ]
    },
    {
     "name": "stdout",
     "output_type": "stream",
     "text": [
      "Epoch 47 Loss: 0.0381\n",
      "Epoch 48\n"
     ]
    },
    {
     "name": "stderr",
     "output_type": "stream",
     "text": [
      "100%|███████████████████████████████████████████| 95/95 [00:32<00:00,  2.88it/s]\n"
     ]
    },
    {
     "name": "stdout",
     "output_type": "stream",
     "text": [
      "Epoch 48 Loss: 0.0377\n",
      "Epoch 49\n"
     ]
    },
    {
     "name": "stderr",
     "output_type": "stream",
     "text": [
      "100%|███████████████████████████████████████████| 95/95 [00:33<00:00,  2.87it/s]\n"
     ]
    },
    {
     "name": "stdout",
     "output_type": "stream",
     "text": [
      "Epoch 49 Loss: 0.0381\n",
      "Epoch 50\n"
     ]
    },
    {
     "name": "stderr",
     "output_type": "stream",
     "text": [
      "100%|███████████████████████████████████████████| 95/95 [00:33<00:00,  2.88it/s]\n"
     ]
    },
    {
     "name": "stdout",
     "output_type": "stream",
     "text": [
      "Epoch 50 Loss: 0.0384\n"
     ]
    }
   ],
   "source": [
    "from tqdm import tqdm\n",
    "import torch.nn.functional as F\n",
    "\n",
    "# Initialize the UNet model\n",
    "unet = UNet(image_channels=1, n_channels=32).cuda()\n",
    "\n",
    "# Noise scheduling parameters\n",
    "n_steps = 100\n",
    "beta = torch.linspace(0.0001, 0.04, n_steps).cuda()\n",
    "alpha = 1. - beta\n",
    "alpha_bar = torch.cumprod(alpha, dim=0)\n",
    "\n",
    "# Noise generation function\n",
    "def q_xt_x0(x0, t):\n",
    "    alpha_bar_t = gather(alpha_bar, t).view(-1, 1, 1, 1)\n",
    "    noise = torch.randn_like(x0).to(x0.device)\n",
    "    xt = alpha_bar_t.sqrt() * x0 + (1 - alpha_bar_t).sqrt() * noise\n",
    "    return xt, noise\n",
    "\n",
    "# Helper function for gathering parameters\n",
    "def gather(values, t):\n",
    "    return values[t].view(-1, *(1,) * (len(values.size()) - 1))\n",
    "\n",
    "# Preprocessing for MNIST dataset\n",
    "transform = transforms.Compose([\n",
    "    transforms.Resize((32, 32)),  # Resize to CIFAR-10 dimensions\n",
    "    transforms.ToTensor(),\n",
    "    transforms.Normalize([0.5], [0.5])  # Normalize to [-1, 1]\n",
    "])\n",
    "\n",
    "# Load and preprocess MNIST dataset\n",
    "mnist = datasets.MNIST(root=\"./data\", train=True, download=True, transform=transform)\n",
    "indices = [i for i, (img, label) in enumerate(mnist) if label in [2, 3]]  # Filter digits 2 and 3\n",
    "filtered_dataset = Subset(mnist, indices)\n",
    "dataloader = DataLoader(filtered_dataset, batch_size=128, shuffle=True)\n",
    "\n",
    "# Training parameters\n",
    "batch_size = 128\n",
    "lr = 2e-4\n",
    "optim = torch.optim.AdamW(unet.parameters(), lr=lr)\n",
    "loss_fn = F.mse_loss  # Mean Squared Error Loss\n",
    "scheduler = torch.optim.lr_scheduler.OneCycleLR(optim, max_lr=lr, total_steps=50 * len(dataloader), pct_start=0.25)\n",
    "\n",
    "# Training loop\n",
    "for epoch in range(50):\n",
    "    print(f\"Epoch {epoch + 1}\")\n",
    "    epoch_loss = 0  # Initialize epoch loss\n",
    "    for images, _ in tqdm(dataloader):  # Iterate through the dataset\n",
    "        images = images.cuda()\n",
    "        t = torch.randint(0, n_steps, (images.size(0),), dtype=torch.long).cuda()  # Match batch size\n",
    "        \n",
    "        # Generate noisy image and noise\n",
    "        xt, noise = q_xt_x0(images, t)\n",
    "\n",
    "        # Predict noise using the model\n",
    "        pred_noise = unet(xt, t)\n",
    "\n",
    "        # Compute loss\n",
    "        loss = loss_fn(pred_noise, noise)\n",
    "\n",
    "        # Backpropagation\n",
    "        optim.zero_grad()\n",
    "        loss.backward()\n",
    "        torch.nn.utils.clip_grad_norm_(unet.parameters(), max_norm=1.0)  # Gradient clipping\n",
    "        optim.step()\n",
    "        scheduler.step()\n",
    "\n",
    "        # Accumulate loss\n",
    "        epoch_loss += loss.item()\n",
    "\n",
    "    avg_epoch_loss = epoch_loss / len(dataloader)  # Average loss per epoch\n",
    "    print(f\"Epoch {epoch + 1} Loss: {avg_epoch_loss:.4f}\")\n",
    "\n",
    "# Save model (optional)\n",
    "torch.save(unet.state_dict(), \"mnist_diffusion_unet.pth\")\n"
   ]
  },
  {
   "cell_type": "code",
   "execution_count": 29,
   "id": "1faea42b-980d-458d-87c7-a77ff7e9bb90",
   "metadata": {},
   "outputs": [],
   "source": [
    "@torch.no_grad()\n",
    "def reverse_diffusion(unet, n_samples, n_steps, image_size, alpha_bar, device=\"cuda\"):\n",
    "    \"\"\"\n",
    "    Reverse process to sample images from the noise using the trained UNet model.\n",
    "\n",
    "    Args:\n",
    "        unet (torch.nn.Module): The trained UNet model for predicting noise.\n",
    "        n_samples (int): Number of samples to generate.\n",
    "        n_steps (int): Number of diffusion steps.\n",
    "        image_size (int): Size of the image (e.g., 32 for MNIST resized to 32x32).\n",
    "        alpha_bar (Tensor): Precomputed cumulative alpha product for the noise schedule.\n",
    "        device (str): Device for computation (\"cuda\" or \"cpu\").\n",
    "\n",
    "    Returns:\n",
    "        Tensor: Generated images in the range [-1, 1].\n",
    "    \"\"\"\n",
    "    # Initialize random noise (x_T)\n",
    "    x_t = torch.randn((n_samples, 1, image_size, image_size), device=device)\n",
    "\n",
    "    for t in tqdm(reversed(range(n_steps)), desc=\"Reverse Diffusion\"):\n",
    "        t_tensor = torch.full((n_samples,), t, device=device, dtype=torch.long)\n",
    "\n",
    "        # Predict noise using the model\n",
    "        pred_noise = unet(x_t, t_tensor)\n",
    "\n",
    "        # Compute coefficients for reverse process\n",
    "        alpha_t = gather(alpha_bar, t_tensor).view(-1, 1, 1, 1)\n",
    "        alpha_prev = gather(alpha_bar, torch.clamp(t_tensor - 1, min=0)).view(-1, 1, 1, 1)\n",
    "        beta_t = 1 - alpha_t\n",
    "\n",
    "        # Compute mean (mu) of the reverse process\n",
    "        mean = (x_t - beta_t.sqrt() * pred_noise) / alpha_t.sqrt()\n",
    "\n",
    "        # Add noise if not the final step\n",
    "        if t > 0:\n",
    "            noise = torch.randn_like(x_t).to(device)\n",
    "            std = beta_t.sqrt() * ((1 - alpha_prev) / (1 - alpha_t)).sqrt()\n",
    "            x_t = mean + std * noise\n",
    "        else:\n",
    "            x_t = mean\n",
    "\n",
    "    return x_t\n"
   ]
  },
  {
   "cell_type": "code",
   "execution_count": 30,
   "id": "9a9772c0-81b9-44ae-b560-36e7f412b862",
   "metadata": {},
   "outputs": [
    {
     "name": "stderr",
     "output_type": "stream",
     "text": [
      "/tmp/ipykernel_162017/4228156657.py:7: FutureWarning: You are using `torch.load` with `weights_only=False` (the current default value), which uses the default pickle module implicitly. It is possible to construct malicious pickle data which will execute arbitrary code during unpickling (See https://github.com/pytorch/pytorch/blob/main/SECURITY.md#untrusted-models for more details). In a future release, the default value for `weights_only` will be flipped to `True`. This limits the functions that could be executed during unpickling. Arbitrary objects will no longer be allowed to be loaded via this mode unless they are explicitly allowlisted by the user via `torch.serialization.add_safe_globals`. We recommend you start setting `weights_only=True` for any use case where you don't have full control of the loaded file. Please open an issue on GitHub for any issues related to this experimental feature.\n",
      "  unet.load_state_dict(torch.load(\"mnist_diffusion_unet.pth\"))\n",
      "Reverse Diffusion: 100it [00:07, 13.80it/s]\n"
     ]
    },
    {
     "data": {
      "image/png": "[encoded data removed]",
      "text/plain": [
       "<Figure size 1000x500 with 1 Axes>"
      ]
     },
     "metadata": {},
     "output_type": "display_data"
    }
   ],
   "source": [
    "# Set parameters for sampling\n",
    "n_samples = 10  # Number of images to generate\n",
    "image_size = 32  # Size of MNIST images after resizing\n",
    "device = \"cuda\" if torch.cuda.is_available() else \"cpu\"\n",
    "\n",
    "# Load the trained model\n",
    "unet.load_state_dict(torch.load(\"mnist_diffusion_unet.pth\"))\n",
    "unet.to(device)\n",
    "unet.eval()\n",
    "\n",
    "# Generate images using the reverse process\n",
    "generated_images = reverse_diffusion(unet, n_samples, n_steps, image_size, alpha_bar, device)\n",
    "\n",
    "# Convert generated images to [0, 1] range for visualization\n",
    "generated_images = (generated_images + 1) / 2  # Scale from [-1, 1] to [0, 1]\n",
    "\n",
    "# Visualize the generated images\n",
    "import torchvision.utils as vutils\n",
    "import matplotlib.pyplot as plt\n",
    "\n",
    "grid = vutils.make_grid(generated_images, nrow=5, normalize=True)\n",
    "plt.figure(figsize=(10, 5))\n",
    "plt.imshow(grid.permute(1, 2, 0).cpu().numpy(), cmap=\"gray\")\n",
    "plt.axis(\"off\")\n",
    "plt.title(\"Generated MNIST Digits\")\n",
    "plt.show()\n"
   ]
  },
  {
   "cell_type": "code",
   "execution_count": null,
   "id": "b9453106-42cf-4485-9ccc-2cd9dd4e1b4c",
   "metadata": {},
   "outputs": [],
   "source": []
  }
 ],
 "metadata": {
  "kernelspec": {
   "display_name": "Python 3 (ipykernel)",
   "language": "python",
   "name": "python3"
  },
  "language_info": {
   "codemirror_mode": {
    "name": "ipython",
    "version": 3
   },
   "file_extension": ".py",
   "mimetype": "text/x-python",
   "name": "python",
   "nbconvert_exporter": "python",
   "pygments_lexer": "ipython3",
   "version": "3.8.10"
  }
 },
 "nbformat": 4,
 "nbformat_minor": 5
}
